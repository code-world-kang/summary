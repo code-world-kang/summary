{
 "cells": [
  {
   "cell_type": "markdown",
   "metadata": {},
   "source": [
    "# Jupyter Notebook"
   ]
  },
  {
   "cell_type": "markdown",
   "metadata": {},
   "source": [
    "- jupyter中想要添加ROOT C++的notebook需要ROOT6及以上版本。\n",
    "\n",
    "- 测试发现，ROOT6.12.06版本在创建ROOT C++的notebook在编写时会有bug，网页卡死、报错、jupyter内核卡死，更换ROOT6.16.00版本后正常。\n",
    "\n",
    "- 建议用google浏览器。\n",
    "\n",
    "- 北京大学[李智焕老师](https://faculty.pku.edu.cn/lizhihuan/zh_CN/index.htm)的[核物理实验方法](https://zhihuanli.github.io/Experimental-Method-in-Nuclear-Physics/)以及[数据分析](https://zhihuanli.github.io/Experimental-Data-Analysis-Course/)课程中有关jupyter启动教程适用于服务器。在服务器中键入`jupyter notebook`没有ROOT C++，输入`root - - notebook`才会出现ROOT C++。\n",
    "  - 原因是服务器中使用的是`module load`方法加载的root软件，改用source path/root/bin/thisroot.sh后则可用`jupyter notebook`启用ROOT C++；"
   ]
  },
  {
   "cell_type": "markdown",
   "metadata": {},
   "source": [
    "# Markerdown语法说明"
   ]
  },
  {
   "cell_type": "markdown",
   "metadata": {},
   "source": [
    "- 参考网页：https://www.zhihu.com/question/20409634/answer/90728572"
   ]
  },
  {
   "cell_type": "markdown",
   "metadata": {},
   "source": [
    "# Markdown中公式编辑教程"
   ]
  },
  {
   "cell_type": "markdown",
   "metadata": {},
   "source": [
    "- 具体可参考网页：https://www.jianshu.com/p/25f0139637b7"
   ]
  },
  {
   "cell_type": "markdown",
   "metadata": {},
   "source": [
    "# 在Linux服务器中安装并配置Jupyter Notebook"
   ]
  },
  {
   "cell_type": "markdown",
   "metadata": {},
   "source": [
    "- 具体可参考网页：https://blog.csdn.net/xushu_me/article/details/104066613"
   ]
  },
  {
   "cell_type": "markdown",
   "metadata": {},
   "source": [
    "# Jupyter更改默认浏览器"
   ]
  },
  {
   "cell_type": "markdown",
   "metadata": {},
   "source": [
    "- 1. 创建jupyter_notebook_config.py （如果早期安装好，该文件已经存在，跳过此步骤）"
   ]
  },
  {
   "cell_type": "markdown",
   "metadata": {},
   "source": [
    "jupyter notebook --generate-config"
   ]
  },
  {
   "cell_type": "markdown",
   "metadata": {},
   "source": [
    "- 2. 打开并修改jupyter_notebook_config.py"
   ]
  },
  {
   "cell_type": "markdown",
   "metadata": {},
   "source": [
    "vim ～/.jupyter/jupyter_notebook_config.py"
   ]
  },
  {
   "cell_type": "markdown",
   "metadata": {},
   "source": [
    "- 3. 查看浏览器位置（以google-chrome为例子）"
   ]
  },
  {
   "cell_type": "markdown",
   "metadata": {},
   "source": [
    "which google-chorme后会显示/usr/bin/google-chrome"
   ]
  },
  {
   "cell_type": "markdown",
   "metadata": {},
   "source": [
    "- 4. 在jupyter_notebook_config.py中找到# c.NotebookApp.browser = ''命令行，将第3步的地址添加进去；"
   ]
  },
  {
   "cell_type": "markdown",
   "metadata": {},
   "source": [
    "c.NotebookApp.browser = '/usr/bin/google-chrome' "
   ]
  },
  {
   "cell_type": "markdown",
   "metadata": {},
   "source": [
    "# Jupyter其他设置"
   ]
  },
  {
   "cell_type": "markdown",
   "metadata": {},
   "source": [
    "- 设置访问IP，*代表任意IP，注释掉以主机名访问，多用于本地访问；\n",
    "\n",
    "c.NotebookApp.ip = \"*\"\n",
    "\n",
    "-  是(True)否(False)网页自动打开，服务器一般用False，个人用户用True；\n",
    "\n",
    "c.NotebookApp.open_browser = False`\n",
    "\n",
    "- jupyter访问密码设置，需要用到PYTHON，具体可百度；\n",
    "\n",
    "c.NotebookApp.password =u'sha1:……'\n",
    "\n",
    "- 设置jupyter访问端口，与防火墙相关\n",
    "\n",
    "c.NotebookApp.port = 8888\n"
   ]
  },
  {
   "cell_type": "markdown",
   "metadata": {},
   "source": [
    "# 设置密码"
   ]
  },
  {
   "cell_type": "markdown",
   "metadata": {},
   "source": [
    "ipython   #进入python\n",
    "\n",
    "from notebook.auth import passed #键入本条命令\n",
    "\n",
    "passwd()    #键入本条命令\n",
    "\n",
    "Enter password:#键入密码\n",
    "\n",
    "verify password:#确认密码\n",
    "\n",
    "Out:'...................................................'#密钥"
   ]
  },
  {
   "cell_type": "markdown",
   "metadata": {},
   "source": [
    "# 防火墙端口设置"
   ]
  },
  {
   "cell_type": "markdown",
   "metadata": {},
   "source": [
    "- 查看防火墙当前状态和所有的服务状态\n",
    "\n",
    "firewall-cmd --list-all\n",
    "\n",
    "- 产看已经被允许的服务\n",
    "\n",
    "firewall-cmd --list-services\n",
    "\n",
    "- 查看防火墙是否开启了某个端口\n",
    "\n",
    "firewall-cmd --query-port=8888/tcp\n",
    "\n",
    "- 开启端口\n",
    "\n",
    "firewall-cmd --zone=public --add-port=8889/tcp --permanent\n",
    "\n",
    "- 关闭端口\n",
    "\n",
    "firewall-cmd --remove-port=8889/tcp --permanent\n",
    "\n",
    "- 重启防火墙（执行开启关闭操作后需要重起，切记）\n",
    "\n",
    "firewall-cmd --reload"
   ]
  },
  {
   "cell_type": "markdown",
   "metadata": {},
   "source": [
    "# jupyter添加Content"
   ]
  },
  {
   "cell_type": "markdown",
   "metadata": {},
   "source": [
    "- 添加nbextensions插件\n",
    "\n",
    "pip install jupyter_contrib_nbextensions\n",
    "\n",
    "- 配置nbextensions插件\n",
    "\n",
    "jupyter contrib nbextension install --user\n",
    "\n",
    "- 进入jupyter打开Nbextensions选项卡，勾选“Table of Contents”"
   ]
  },
  {
   "cell_type": "markdown",
   "metadata": {},
   "source": [
    "# ERROR"
   ]
  },
  {
   "cell_type": "markdown",
   "metadata": {},
   "source": [
    "- Error1：输出‘OSError: [Errno 99] Cannot assign requested address’\n",
    "\n",
    "IP或者端口配置错误。\n",
    "\n",
    "- Error2：给定了端口依然无法打开。\n",
    "\n",
    "防火墙原因，端口被锁死，需要查看防火墙端口设置。"
   ]
  },
  {
   "cell_type": "code",
   "execution_count": 1,
   "metadata": {},
   "outputs": [
    {
     "name": "stdout",
     "output_type": "stream",
     "text": [
      "[NbConvertApp] Converting notebook readme_jupyter.ipynb to html\n",
      "\n",
      "\n"
     ]
    }
   ],
   "source": [
    "!jupyter nbconvert readme_jupyter.ipynb --to html"
   ]
  }
 ],
 "metadata": {
  "kernelspec": {
   "display_name": "ROOT C++",
   "language": "c++",
   "name": "root"
  },
  "language_info": {
   "codemirror_mode": "text/x-c++src",
   "file_extension": ".C",
   "mimetype": " text/x-c++src",
   "name": "c++"
  },
  "toc": {
   "base_numbering": 1,
   "nav_menu": {},
   "number_sections": true,
   "sideBar": true,
   "skip_h1_title": false,
   "title_cell": "Table of Contents",
   "title_sidebar": "Contents",
   "toc_cell": false,
   "toc_position": {},
   "toc_section_display": true,
   "toc_window_display": true
  }
 },
 "nbformat": 4,
 "nbformat_minor": 4
}
